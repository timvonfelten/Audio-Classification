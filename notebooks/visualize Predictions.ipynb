{
 "cells": [
  {
   "cell_type": "code",
   "execution_count": 6,
   "metadata": {},
   "outputs": [],
   "source": [
    "import matplotlib.pyplot as plt\n",
    "import pandas as pd\n",
    "from sklearn.metrics import confusion_matrix, ConfusionMatrixDisplay\n"
   ]
  },
  {
   "cell_type": "code",
   "execution_count": 7,
   "metadata": {},
   "outputs": [
    {
     "data": {
      "text/plain": [
       "<sklearn.metrics._plot.confusion_matrix.ConfusionMatrixDisplay at 0x7fe5f1f27c50>"
      ]
     },
     "execution_count": 7,
     "metadata": {},
     "output_type": "execute_result"
    },
    {
     "data": {
      "image/png": "[encoded data removed]",
      "text/plain": [
       "<Figure size 864x864 with 2 Axes>"
      ]
     },
     "metadata": {
      "needs_background": "light"
     },
     "output_type": "display_data"
    }
   ],
   "source": [
    "\n",
    "# Laden der CSV-Datei\n",
    "data = pd.read_csv('../logs/stats.csv')\n",
    "\n",
    "# Extrahieren der tatsächlichen und vorhergesagten Klassen\n",
    "y_true = data['Actual Class']\n",
    "y_pred = data['Predicted Class']\n",
    "\n",
    "# Erstellen der Konfusionsmatrix\n",
    "cm = confusion_matrix(y_true, y_pred, labels=data['Actual Class'].unique())\n",
    "\n",
    "# Visualisierung der Konfusionsmatrix\n",
    "disp = ConfusionMatrixDisplay(cm, display_labels=data['Actual Class'].unique())\n",
    "fig, ax = plt.subplots(figsize=(12,12))\n",
    "disp.plot(ax=ax)\n"
   ]
  },
  {
   "cell_type": "code",
   "execution_count": 8,
   "metadata": {},
   "outputs": [
    {
     "name": "stdout",
     "output_type": "stream",
     "text": [
      "Durchschnittliche Zuverlässigkeit für Klasse \"notavogel\": 0.7359198428575074\n",
      "Durchschnittliche Zuverlässigkeit für Klasse \"vogel\": 0.7489521675009437\n"
     ]
    }
   ],
   "source": [
    "\n",
    "# Ihre CSV-Datei einlesen\n",
    "df = pd.read_csv('../logs/stats.csv')\n",
    "\n",
    "# Eine leere Dictionary erstellen, um die Zuverlässigkeit für jede Klasse zu speichern\n",
    "class_confidence = {}\n",
    "\n",
    "# Durch die Zeilen des Dataframes iterieren\n",
    "for index, row in df.iterrows():\n",
    "    actual_class = row['Actual Class']\n",
    "    confidence = row['Confidence']\n",
    "    \n",
    "    # Wenn die Klasse bereits in der Dictionary existiert, fügen Sie die Zuverlässigkeit hinzu\n",
    "    if actual_class in class_confidence:\n",
    "        class_confidence[actual_class].append(confidence)\n",
    "    # Andernfalls erstellen Sie eine neue Liste für die Klasse\n",
    "    else:\n",
    "        class_confidence[actual_class] = [confidence]\n",
    "\n",
    "# Durch die Dictionary iterieren und den Durchschnitt der Zuverlässigkeiten für jede Klasse berechnen\n",
    "for class_name, confidences in class_confidence.items():\n",
    "    average_confidence = sum(confidences) / len(confidences)\n",
    "    print(f'Durchschnittliche Zuverlässigkeit für Klasse \"{class_name}\": {average_confidence}')"
   ]
  },
  {
   "cell_type": "code",
   "execution_count": 9,
   "metadata": {},
   "outputs": [
    {
     "name": "stdout",
     "output_type": "stream",
     "text": [
      "Prozentsatz der Zuordnung für Klasse \"notavogel\": 89.27%\n",
      "Prozentsatz der Zuordnung für Klasse \"vogel\": 75.51%\n"
     ]
    }
   ],
   "source": [
    "# Ihre CSV-Datei einlesen\n",
    "df = pd.read_csv('../logs/stats.csv')\n",
    "\n",
    "# Eine Dictionary erstellen, um die Anzahl der korrekten Vorhersagen für jede Klasse zu speichern\n",
    "correct_predictions = {}\n",
    "\n",
    "# Eine Dictionary erstellen, um die Anzahl der Gesamtvorhersagen für jede Klasse zu speichern\n",
    "total_predictions = {}\n",
    "\n",
    "# Durch die Zeilen des Dataframes iterieren\n",
    "for index, row in df.iterrows():\n",
    "    actual_class = row['Actual Class']\n",
    "    predicted_class = row['Predicted Class']\n",
    "    \n",
    "    # Überprüfen, ob die Vorhersage korrekt ist\n",
    "    if actual_class == predicted_class:\n",
    "        # Wenn die Klasse bereits in der Dictionary existiert, erhöhen Sie die Anzahl der korrekten Vorhersagen\n",
    "        if actual_class in correct_predictions:\n",
    "            correct_predictions[actual_class] += 1\n",
    "        # Andernfalls erstellen Sie einen neuen Eintrag\n",
    "        else:\n",
    "            correct_predictions[actual_class] = 1\n",
    "    \n",
    "    # Wenn die Klasse bereits in der Dictionary existiert, erhöhen Sie die Anzahl der Gesamtvorhersagen\n",
    "    if actual_class in total_predictions:\n",
    "        total_predictions[actual_class] += 1\n",
    "    # Andernfalls erstellen Sie einen neuen Eintrag\n",
    "    else:\n",
    "        total_predictions[actual_class] = 1\n",
    "\n",
    "# Den Prozentsatz der Zuordnung für jede Klasse berechnen und ausgeben\n",
    "for class_name, correct_count in correct_predictions.items():\n",
    "    total_count = total_predictions[class_name]\n",
    "    percentage = (correct_count / total_count) * 100\n",
    "    print(f'Prozentsatz der Zuordnung für Klasse \"{class_name}\": {percentage:.2f}%')\n"
   ]
  },
  {
   "cell_type": "code",
   "execution_count": 10,
   "metadata": {},
   "outputs": [
    {
     "data": {
      "image/png": "[encoded data removed]",
      "text/plain": [
       "<Figure size 1440x216 with 1 Axes>"
      ]
     },
     "metadata": {
      "needs_background": "light"
     },
     "output_type": "display_data"
    }
   ],
   "source": [
    "import matplotlib.pyplot as plt\n",
    "import pandas as pd\n",
    "import numpy as np\n",
    "import seaborn as sns\n",
    "\n",
    "# Beispiel für Klassifikationsergebnisse und Zeitfenster (Nur zur Demonstration)\n",
    "classification_results = [0, 1, 1, 0, 1, 0, 0, 1, 1, 0]  # 0 für Klasse 1 (rot), 1 für Klasse 2 (grün)\n",
    "seconds = list(range(len(classification_results)))  # Sekunden für die Klassifikationen\n",
    "\n",
    "# Berechnung des gleitenden Mittelwerts für die Klassifikationsergebnisse\n",
    "rolling_means = []\n",
    "for i in range(0, len(classification_results) - 2):\n",
    "    mean_value = np.mean(classification_results[i:i + 3])\n",
    "    rolling_means.append(mean_value)\n",
    "\n",
    "# Heatmap darstellen\n",
    "plt.figure(figsize=(20, 3))\n",
    "sns.heatmap([rolling_means], annot=True, cmap='RdYlGn', cbar=False, xticklabels=seconds[1:-1])\n",
    "plt.title('Heatmap der Klassifikationsergebnisse')\n",
    "plt.xlabel('Zeit in Sekunden')\n",
    "plt.yticks([], [])\n",
    "plt.show()\n"
   ]
  }
 ],
 "metadata": {
  "kernelspec": {
   "display_name": "audio",
   "language": "python",
   "name": "python3"
  },
  "language_info": {
   "codemirror_mode": {
    "name": "ipython",
    "version": 3
   },
   "file_extension": ".py",
   "mimetype": "text/x-python",
   "name": "python",
   "nbconvert_exporter": "python",
   "pygments_lexer": "ipython3",
   "version": "3.7.16"
  }
 },
 "nbformat": 4,
 "nbformat_minor": 2
}
